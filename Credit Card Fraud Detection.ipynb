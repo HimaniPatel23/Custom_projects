{
 "cells": [
  {
   "cell_type": "markdown",
   "metadata": {},
   "source": [
    "# TensorFlow Core Learning Algorithms\n",
    "In this notebook we will walk through one of the fundemental machine learning algorithm. We will apply this algorithm to unique problem and dataset before highlighting the use cases.\n",
    "\n",
    "The algorithms we will focus on include:\n",
    "- Classification\n",
    "\n",
    "It is worth noting that there are many tools within TensorFlow that could be used to solve the problems we will see below. I have chosen the tools that I belive give the most variety and are easiest to use.<br/><br/>\n",
    "<b>Disclameir</b> <br/>I have utilized most of the text from [Here](https://colab.research.google.com/drive/15Cyy2H7nT40sGR7TBN5wBvgTd57mVKay#forceEdit=true&sandboxMode=true&scrollTo=tUgsCvCHLksw)"
   ]
  },
  {
   "cell_type": "code",
   "execution_count": 1,
   "metadata": {},
   "outputs": [],
   "source": [
    "# Import all libraries\n",
    "import numpy as np\n",
    "import pandas as pd\n",
    "import matplotlib.pyplot as plt\n",
    "from pandas_profiling import ProfileReport\n",
    "import tensorflow as tf\n",
    "import seaborn as sns"
   ]
  },
  {
   "cell_type": "code",
   "execution_count": 2,
   "metadata": {},
   "outputs": [
    {
     "name": "stderr",
     "output_type": "stream",
     "text": [
      "UsageError: Line magic function `%tensorflow_version` not found.\n"
     ]
    }
   ],
   "source": [
    "%tensorflow_version 2.x  # this line is not required unless you are in a notebook"
   ]
  },
  {
   "cell_type": "markdown",
   "metadata": {},
   "source": [
    "## Dataset\n",
    "> You can download the dataset from Kaggle website [Here](https://www.kaggle.com/mlg-ulb/creditcardfraud)."
   ]
  },
  {
   "cell_type": "code",
   "execution_count": 3,
   "metadata": {},
   "outputs": [],
   "source": [
    "# Import the dataset\n",
    "dataset = pd.read_csv(\"creditcard.csv\")"
   ]
  },
  {
   "cell_type": "code",
   "execution_count": 4,
   "metadata": {},
   "outputs": [
    {
     "data": {
      "text/html": [
       "<div>\n",
       "<style scoped>\n",
       "    .dataframe tbody tr th:only-of-type {\n",
       "        vertical-align: middle;\n",
       "    }\n",
       "\n",
       "    .dataframe tbody tr th {\n",
       "        vertical-align: top;\n",
       "    }\n",
       "\n",
       "    .dataframe thead th {\n",
       "        text-align: right;\n",
       "    }\n",
       "</style>\n",
       "<table border=\"1\" class=\"dataframe\">\n",
       "  <thead>\n",
       "    <tr style=\"text-align: right;\">\n",
       "      <th></th>\n",
       "      <th>Time</th>\n",
       "      <th>V1</th>\n",
       "      <th>V2</th>\n",
       "      <th>V3</th>\n",
       "      <th>V4</th>\n",
       "      <th>V5</th>\n",
       "      <th>V6</th>\n",
       "      <th>V7</th>\n",
       "      <th>V8</th>\n",
       "      <th>V9</th>\n",
       "      <th>...</th>\n",
       "      <th>V21</th>\n",
       "      <th>V22</th>\n",
       "      <th>V23</th>\n",
       "      <th>V24</th>\n",
       "      <th>V25</th>\n",
       "      <th>V26</th>\n",
       "      <th>V27</th>\n",
       "      <th>V28</th>\n",
       "      <th>Amount</th>\n",
       "      <th>Class</th>\n",
       "    </tr>\n",
       "  </thead>\n",
       "  <tbody>\n",
       "    <tr>\n",
       "      <th>0</th>\n",
       "      <td>0.0</td>\n",
       "      <td>-1.359807</td>\n",
       "      <td>-0.072781</td>\n",
       "      <td>2.536347</td>\n",
       "      <td>1.378155</td>\n",
       "      <td>-0.338321</td>\n",
       "      <td>0.462388</td>\n",
       "      <td>0.239599</td>\n",
       "      <td>0.098698</td>\n",
       "      <td>0.363787</td>\n",
       "      <td>...</td>\n",
       "      <td>-0.018307</td>\n",
       "      <td>0.277838</td>\n",
       "      <td>-0.110474</td>\n",
       "      <td>0.066928</td>\n",
       "      <td>0.128539</td>\n",
       "      <td>-0.189115</td>\n",
       "      <td>0.133558</td>\n",
       "      <td>-0.021053</td>\n",
       "      <td>149.62</td>\n",
       "      <td>0</td>\n",
       "    </tr>\n",
       "    <tr>\n",
       "      <th>1</th>\n",
       "      <td>0.0</td>\n",
       "      <td>1.191857</td>\n",
       "      <td>0.266151</td>\n",
       "      <td>0.166480</td>\n",
       "      <td>0.448154</td>\n",
       "      <td>0.060018</td>\n",
       "      <td>-0.082361</td>\n",
       "      <td>-0.078803</td>\n",
       "      <td>0.085102</td>\n",
       "      <td>-0.255425</td>\n",
       "      <td>...</td>\n",
       "      <td>-0.225775</td>\n",
       "      <td>-0.638672</td>\n",
       "      <td>0.101288</td>\n",
       "      <td>-0.339846</td>\n",
       "      <td>0.167170</td>\n",
       "      <td>0.125895</td>\n",
       "      <td>-0.008983</td>\n",
       "      <td>0.014724</td>\n",
       "      <td>2.69</td>\n",
       "      <td>0</td>\n",
       "    </tr>\n",
       "    <tr>\n",
       "      <th>2</th>\n",
       "      <td>1.0</td>\n",
       "      <td>-1.358354</td>\n",
       "      <td>-1.340163</td>\n",
       "      <td>1.773209</td>\n",
       "      <td>0.379780</td>\n",
       "      <td>-0.503198</td>\n",
       "      <td>1.800499</td>\n",
       "      <td>0.791461</td>\n",
       "      <td>0.247676</td>\n",
       "      <td>-1.514654</td>\n",
       "      <td>...</td>\n",
       "      <td>0.247998</td>\n",
       "      <td>0.771679</td>\n",
       "      <td>0.909412</td>\n",
       "      <td>-0.689281</td>\n",
       "      <td>-0.327642</td>\n",
       "      <td>-0.139097</td>\n",
       "      <td>-0.055353</td>\n",
       "      <td>-0.059752</td>\n",
       "      <td>378.66</td>\n",
       "      <td>0</td>\n",
       "    </tr>\n",
       "    <tr>\n",
       "      <th>3</th>\n",
       "      <td>1.0</td>\n",
       "      <td>-0.966272</td>\n",
       "      <td>-0.185226</td>\n",
       "      <td>1.792993</td>\n",
       "      <td>-0.863291</td>\n",
       "      <td>-0.010309</td>\n",
       "      <td>1.247203</td>\n",
       "      <td>0.237609</td>\n",
       "      <td>0.377436</td>\n",
       "      <td>-1.387024</td>\n",
       "      <td>...</td>\n",
       "      <td>-0.108300</td>\n",
       "      <td>0.005274</td>\n",
       "      <td>-0.190321</td>\n",
       "      <td>-1.175575</td>\n",
       "      <td>0.647376</td>\n",
       "      <td>-0.221929</td>\n",
       "      <td>0.062723</td>\n",
       "      <td>0.061458</td>\n",
       "      <td>123.50</td>\n",
       "      <td>0</td>\n",
       "    </tr>\n",
       "    <tr>\n",
       "      <th>4</th>\n",
       "      <td>2.0</td>\n",
       "      <td>-1.158233</td>\n",
       "      <td>0.877737</td>\n",
       "      <td>1.548718</td>\n",
       "      <td>0.403034</td>\n",
       "      <td>-0.407193</td>\n",
       "      <td>0.095921</td>\n",
       "      <td>0.592941</td>\n",
       "      <td>-0.270533</td>\n",
       "      <td>0.817739</td>\n",
       "      <td>...</td>\n",
       "      <td>-0.009431</td>\n",
       "      <td>0.798278</td>\n",
       "      <td>-0.137458</td>\n",
       "      <td>0.141267</td>\n",
       "      <td>-0.206010</td>\n",
       "      <td>0.502292</td>\n",
       "      <td>0.219422</td>\n",
       "      <td>0.215153</td>\n",
       "      <td>69.99</td>\n",
       "      <td>0</td>\n",
       "    </tr>\n",
       "  </tbody>\n",
       "</table>\n",
       "<p>5 rows × 31 columns</p>\n",
       "</div>"
      ],
      "text/plain": [
       "   Time        V1        V2        V3        V4        V5        V6        V7  \\\n",
       "0   0.0 -1.359807 -0.072781  2.536347  1.378155 -0.338321  0.462388  0.239599   \n",
       "1   0.0  1.191857  0.266151  0.166480  0.448154  0.060018 -0.082361 -0.078803   \n",
       "2   1.0 -1.358354 -1.340163  1.773209  0.379780 -0.503198  1.800499  0.791461   \n",
       "3   1.0 -0.966272 -0.185226  1.792993 -0.863291 -0.010309  1.247203  0.237609   \n",
       "4   2.0 -1.158233  0.877737  1.548718  0.403034 -0.407193  0.095921  0.592941   \n",
       "\n",
       "         V8        V9  ...       V21       V22       V23       V24       V25  \\\n",
       "0  0.098698  0.363787  ... -0.018307  0.277838 -0.110474  0.066928  0.128539   \n",
       "1  0.085102 -0.255425  ... -0.225775 -0.638672  0.101288 -0.339846  0.167170   \n",
       "2  0.247676 -1.514654  ...  0.247998  0.771679  0.909412 -0.689281 -0.327642   \n",
       "3  0.377436 -1.387024  ... -0.108300  0.005274 -0.190321 -1.175575  0.647376   \n",
       "4 -0.270533  0.817739  ... -0.009431  0.798278 -0.137458  0.141267 -0.206010   \n",
       "\n",
       "        V26       V27       V28  Amount  Class  \n",
       "0 -0.189115  0.133558 -0.021053  149.62      0  \n",
       "1  0.125895 -0.008983  0.014724    2.69      0  \n",
       "2 -0.139097 -0.055353 -0.059752  378.66      0  \n",
       "3 -0.221929  0.062723  0.061458  123.50      0  \n",
       "4  0.502292  0.219422  0.215153   69.99      0  \n",
       "\n",
       "[5 rows x 31 columns]"
      ]
     },
     "execution_count": 4,
     "metadata": {},
     "output_type": "execute_result"
    }
   ],
   "source": [
    "dataset.head()"
   ]
  },
  {
   "cell_type": "markdown",
   "metadata": {},
   "source": [
    "### Note:\n",
    "> We do not have information about what these 28 V variables represent but we will treat them as numerical features"
   ]
  },
  {
   "cell_type": "markdown",
   "metadata": {},
   "source": [
    "##  Split the data"
   ]
  },
  {
   "cell_type": "code",
   "execution_count": 5,
   "metadata": {},
   "outputs": [],
   "source": [
    "# Seperate training and test data\n",
    "X = dataset.iloc[:, :-1]\n",
    "y = dataset.iloc[:, -1:]"
   ]
  },
  {
   "cell_type": "code",
   "execution_count": 17,
   "metadata": {},
   "outputs": [],
   "source": [
    "from sklearn.model_selection import train_test_split\n",
    "X_train, X_test,y_train,y_test = train_test_split(X,y, test_size =0.25, random_state=0)"
   ]
  },
  {
   "cell_type": "code",
   "execution_count": 9,
   "metadata": {},
   "outputs": [
    {
     "data": {
      "text/plain": [
       "<AxesSubplot:title={'center':'Distribution of Fraud vs Real Transactions'}>"
      ]
     },
     "execution_count": 9,
     "metadata": {},
     "output_type": "execute_result"
    },
    {
     "data": {
      "image/png": "[encoded data removed]",
      "text/plain": [
       "<Figure size 576x396 with 1 Axes>"
      ]
     },
     "metadata": {},
     "output_type": "display_data"
    }
   ],
   "source": [
    "y.Class.value_counts().plot(kind='barh', title=\"Distribution of Fraud vs Real Transactions\")"
   ]
  },
  {
   "cell_type": "markdown",
   "metadata": {},
   "source": [
    "### Input Function\n",
    "Well we need to make another one here! Fortunatly for us this one is a little easier to digest."
   ]
  },
  {
   "cell_type": "code",
   "execution_count": 10,
   "metadata": {},
   "outputs": [],
   "source": [
    "def input_fn(features, labels, training=True, batch_size=256):\n",
    "    # Convert the inputs to a Dataset.\n",
    "    dataset = tf.data.Dataset.from_tensor_slices((dict(features), labels))\n",
    "\n",
    "    # Shuffle and repeat if you are in training mode.\n",
    "    if training:\n",
    "        dataset = dataset.shuffle(1000).repeat()\n",
    "    \n",
    "    return dataset.batch(batch_size)"
   ]
  },
  {
   "cell_type": "code",
   "execution_count": 11,
   "metadata": {},
   "outputs": [
    {
     "name": "stdout",
     "output_type": "stream",
     "text": [
      "[NumericColumn(key='Time', shape=(1,), default_value=None, dtype=tf.float32, normalizer_fn=None), NumericColumn(key='V1', shape=(1,), default_value=None, dtype=tf.float32, normalizer_fn=None), NumericColumn(key='V2', shape=(1,), default_value=None, dtype=tf.float32, normalizer_fn=None), NumericColumn(key='V3', shape=(1,), default_value=None, dtype=tf.float32, normalizer_fn=None), NumericColumn(key='V4', shape=(1,), default_value=None, dtype=tf.float32, normalizer_fn=None), NumericColumn(key='V5', shape=(1,), default_value=None, dtype=tf.float32, normalizer_fn=None), NumericColumn(key='V6', shape=(1,), default_value=None, dtype=tf.float32, normalizer_fn=None), NumericColumn(key='V7', shape=(1,), default_value=None, dtype=tf.float32, normalizer_fn=None), NumericColumn(key='V8', shape=(1,), default_value=None, dtype=tf.float32, normalizer_fn=None), NumericColumn(key='V9', shape=(1,), default_value=None, dtype=tf.float32, normalizer_fn=None), NumericColumn(key='V10', shape=(1,), default_value=None, dtype=tf.float32, normalizer_fn=None), NumericColumn(key='V11', shape=(1,), default_value=None, dtype=tf.float32, normalizer_fn=None), NumericColumn(key='V12', shape=(1,), default_value=None, dtype=tf.float32, normalizer_fn=None), NumericColumn(key='V13', shape=(1,), default_value=None, dtype=tf.float32, normalizer_fn=None), NumericColumn(key='V14', shape=(1,), default_value=None, dtype=tf.float32, normalizer_fn=None), NumericColumn(key='V15', shape=(1,), default_value=None, dtype=tf.float32, normalizer_fn=None), NumericColumn(key='V16', shape=(1,), default_value=None, dtype=tf.float32, normalizer_fn=None), NumericColumn(key='V17', shape=(1,), default_value=None, dtype=tf.float32, normalizer_fn=None), NumericColumn(key='V18', shape=(1,), default_value=None, dtype=tf.float32, normalizer_fn=None), NumericColumn(key='V19', shape=(1,), default_value=None, dtype=tf.float32, normalizer_fn=None), NumericColumn(key='V20', shape=(1,), default_value=None, dtype=tf.float32, normalizer_fn=None), NumericColumn(key='V21', shape=(1,), default_value=None, dtype=tf.float32, normalizer_fn=None), NumericColumn(key='V22', shape=(1,), default_value=None, dtype=tf.float32, normalizer_fn=None), NumericColumn(key='V23', shape=(1,), default_value=None, dtype=tf.float32, normalizer_fn=None), NumericColumn(key='V24', shape=(1,), default_value=None, dtype=tf.float32, normalizer_fn=None), NumericColumn(key='V25', shape=(1,), default_value=None, dtype=tf.float32, normalizer_fn=None), NumericColumn(key='V26', shape=(1,), default_value=None, dtype=tf.float32, normalizer_fn=None), NumericColumn(key='V27', shape=(1,), default_value=None, dtype=tf.float32, normalizer_fn=None), NumericColumn(key='V28', shape=(1,), default_value=None, dtype=tf.float32, normalizer_fn=None), NumericColumn(key='Amount', shape=(1,), default_value=None, dtype=tf.float32, normalizer_fn=None)]\n"
     ]
    }
   ],
   "source": [
    "# Feature columns describe how to use the input.\n",
    "my_feature_columns = []\n",
    "for key in X.keys():\n",
    "    my_feature_columns.append(tf.feature_column.numeric_column(key=key))\n",
    "print(my_feature_columns)"
   ]
  },
  {
   "cell_type": "markdown",
   "metadata": {},
   "source": [
    "### Building the Model\n",
    "And now we are ready to choose a model. For classification tasks there are variety of different estimators/models that we can pick from. Some options are listed below.\n",
    "- ```DNNClassifier``` (Deep Neural Network)\n",
    "\n",
    "So let's build a model!"
   ]
  },
  {
   "cell_type": "code",
   "execution_count": 14,
   "metadata": {},
   "outputs": [
    {
     "name": "stdout",
     "output_type": "stream",
     "text": [
      "INFO:tensorflow:Using default config.\n",
      "WARNING:tensorflow:Using temporary folder as model directory: C:\\Users\\patel\\AppData\\Local\\Temp\\tmpn4xettfh\n",
      "INFO:tensorflow:Using config: {'_model_dir': 'C:\\\\Users\\\\patel\\\\AppData\\\\Local\\\\Temp\\\\tmpn4xettfh', '_tf_random_seed': None, '_save_summary_steps': 100, '_save_checkpoints_steps': None, '_save_checkpoints_secs': 600, '_session_config': allow_soft_placement: true\n",
      "graph_options {\n",
      "  rewrite_options {\n",
      "    meta_optimizer_iterations: ONE\n",
      "  }\n",
      "}\n",
      ", '_keep_checkpoint_max': 5, '_keep_checkpoint_every_n_hours': 10000, '_log_step_count_steps': 100, '_train_distribute': None, '_device_fn': None, '_protocol': None, '_eval_distribute': None, '_experimental_distribute': None, '_experimental_max_worker_delay_secs': None, '_session_creation_timeout_secs': 7200, '_service': None, '_cluster_spec': ClusterSpec({}), '_task_type': 'worker', '_task_id': 0, '_global_id_in_cluster': 0, '_master': '', '_evaluation_master': '', '_is_chief': True, '_num_ps_replicas': 0, '_num_worker_replicas': 1}\n"
     ]
    }
   ],
   "source": [
    "# Build a DNN with 2 hidden layers with 30 and 10 hidden nodes each.\n",
    "classifier = tf.estimator.DNNClassifier(\n",
    "    feature_columns=my_feature_columns,\n",
    "    # Three hidden layers of 30, 10 and 10 nodes respectively.\n",
    "    hidden_units=[30, 10, 10],\n",
    "    # The model must choose between 3 classes.\n",
    "    n_classes=2)"
   ]
  },
  {
   "cell_type": "markdown",
   "metadata": {},
   "source": [
    "### Tip\n",
    "> What we've just done is created a deep neural network that has three hidden layers. These layers have 30, 10 and 10 neurons respectively. However, it is worth mentioning that the number of hidden neurons is an arbitrary number and many experiments and tests are usually done to determine the best choice for these values. Try playing around with the number of hidden neurons and see if your results change."
   ]
  },
  {
   "cell_type": "code",
   "execution_count": 19,
   "metadata": {},
   "outputs": [
    {
     "name": "stdout",
     "output_type": "stream",
     "text": [
      "INFO:tensorflow:Calling model_fn.\n",
      "WARNING:tensorflow:Layer dnn is casting an input tensor from dtype float64 to the layer's dtype of float32, which is new behavior in TensorFlow 2.  The layer has dtype float32 because it's dtype defaults to floatx.\n",
      "\n",
      "If you intended to run this layer in float32, you can safely ignore this warning. If in doubt, this warning is likely only an issue if you are porting a TensorFlow 1.X model to TensorFlow 2.\n",
      "\n",
      "To change all layers to have dtype float64 by default, call `tf.keras.backend.set_floatx('float64')`. To change just this layer, pass dtype='float64' to the layer constructor. If you are the author of this layer, you can disable autocasting by passing autocast=False to the base Layer constructor.\n",
      "\n",
      "INFO:tensorflow:Done calling model_fn.\n",
      "INFO:tensorflow:Create CheckpointSaverHook.\n",
      "INFO:tensorflow:Graph was finalized.\n",
      "INFO:tensorflow:Restoring parameters from C:\\Users\\patel\\AppData\\Local\\Temp\\tmpn4xettfh\\model.ckpt-5000\n",
      "WARNING:tensorflow:From C:\\Users\\patel\\Anaconda3\\envs\\tf\\lib\\site-packages\\tensorflow_core\\python\\training\\saver.py:1069: get_checkpoint_mtimes (from tensorflow.python.training.checkpoint_management) is deprecated and will be removed in a future version.\n",
      "Instructions for updating:\n",
      "Use standard file utilities to get mtimes.\n",
      "INFO:tensorflow:Running local_init_op.\n",
      "INFO:tensorflow:Done running local_init_op.\n",
      "INFO:tensorflow:Saving checkpoints for 5000 into C:\\Users\\patel\\AppData\\Local\\Temp\\tmpn4xettfh\\model.ckpt.\n",
      "INFO:tensorflow:loss = 0.014860004, step = 5000\n",
      "INFO:tensorflow:global_step/sec: 123.125\n",
      "INFO:tensorflow:loss = 0.009759281, step = 5100 (0.813 sec)\n",
      "INFO:tensorflow:global_step/sec: 166.148\n",
      "INFO:tensorflow:loss = 0.008982364, step = 5200 (0.602 sec)\n",
      "INFO:tensorflow:global_step/sec: 167.821\n",
      "INFO:tensorflow:loss = 0.025679061, step = 5300 (0.596 sec)\n",
      "INFO:tensorflow:global_step/sec: 161.461\n",
      "INFO:tensorflow:loss = 0.052830964, step = 5400 (0.620 sec)\n",
      "INFO:tensorflow:global_step/sec: 165.774\n",
      "INFO:tensorflow:loss = 0.020005383, step = 5500 (0.603 sec)\n",
      "INFO:tensorflow:global_step/sec: 162.17\n",
      "INFO:tensorflow:loss = 0.010930184, step = 5600 (0.617 sec)\n",
      "INFO:tensorflow:global_step/sec: 164.479\n",
      "INFO:tensorflow:loss = 0.07841751, step = 5700 (0.607 sec)\n",
      "INFO:tensorflow:global_step/sec: 165.731\n",
      "INFO:tensorflow:loss = 0.06265396, step = 5800 (0.604 sec)\n",
      "INFO:tensorflow:global_step/sec: 159.128\n",
      "INFO:tensorflow:loss = 0.057322547, step = 5900 (0.627 sec)\n",
      "INFO:tensorflow:global_step/sec: 167.422\n",
      "INFO:tensorflow:loss = 0.007075405, step = 6000 (0.597 sec)\n",
      "INFO:tensorflow:global_step/sec: 155.213\n",
      "INFO:tensorflow:loss = 0.015360853, step = 6100 (0.644 sec)\n",
      "INFO:tensorflow:global_step/sec: 163.021\n",
      "INFO:tensorflow:loss = 0.01634372, step = 6200 (0.613 sec)\n",
      "INFO:tensorflow:global_step/sec: 167.037\n",
      "INFO:tensorflow:loss = 0.0151296435, step = 6300 (0.599 sec)\n",
      "INFO:tensorflow:global_step/sec: 158.718\n",
      "INFO:tensorflow:loss = 0.01599749, step = 6400 (0.633 sec)\n",
      "INFO:tensorflow:global_step/sec: 148.544\n",
      "INFO:tensorflow:loss = 0.008401616, step = 6500 (0.670 sec)\n",
      "INFO:tensorflow:global_step/sec: 162.608\n",
      "INFO:tensorflow:loss = 0.06161011, step = 6600 (0.616 sec)\n",
      "INFO:tensorflow:global_step/sec: 161.154\n",
      "INFO:tensorflow:loss = 0.079543166, step = 6700 (0.621 sec)\n",
      "INFO:tensorflow:global_step/sec: 157.465\n",
      "INFO:tensorflow:loss = 0.16235214, step = 6800 (0.636 sec)\n",
      "INFO:tensorflow:global_step/sec: 143.239\n",
      "INFO:tensorflow:loss = 0.008403221, step = 6900 (0.696 sec)\n",
      "INFO:tensorflow:global_step/sec: 168.348\n",
      "INFO:tensorflow:loss = 0.013838541, step = 7000 (0.595 sec)\n",
      "INFO:tensorflow:global_step/sec: 166.006\n",
      "INFO:tensorflow:loss = 0.0074422187, step = 7100 (0.601 sec)\n",
      "INFO:tensorflow:global_step/sec: 165.21\n",
      "INFO:tensorflow:loss = 0.0070391707, step = 7200 (0.606 sec)\n",
      "INFO:tensorflow:global_step/sec: 148.325\n",
      "INFO:tensorflow:loss = 0.009343794, step = 7300 (0.673 sec)\n",
      "INFO:tensorflow:global_step/sec: 164.33\n",
      "INFO:tensorflow:loss = 0.008641815, step = 7400 (0.610 sec)\n",
      "INFO:tensorflow:global_step/sec: 162\n",
      "INFO:tensorflow:loss = 0.009286349, step = 7500 (0.616 sec)\n",
      "INFO:tensorflow:global_step/sec: 163.266\n",
      "INFO:tensorflow:loss = 0.030280646, step = 7600 (0.613 sec)\n",
      "INFO:tensorflow:global_step/sec: 165.955\n",
      "INFO:tensorflow:loss = 0.08354433, step = 7700 (0.602 sec)\n",
      "INFO:tensorflow:global_step/sec: 166.389\n",
      "INFO:tensorflow:loss = 0.050950445, step = 7800 (0.601 sec)\n",
      "INFO:tensorflow:global_step/sec: 164.104\n",
      "INFO:tensorflow:loss = 0.037377786, step = 7900 (0.609 sec)\n",
      "INFO:tensorflow:global_step/sec: 167.752\n",
      "INFO:tensorflow:loss = 0.022181064, step = 8000 (0.597 sec)\n",
      "INFO:tensorflow:global_step/sec: 166.557\n",
      "INFO:tensorflow:loss = 0.010501139, step = 8100 (0.600 sec)\n",
      "INFO:tensorflow:global_step/sec: 162.772\n",
      "INFO:tensorflow:loss = 0.07256393, step = 8200 (0.614 sec)\n",
      "INFO:tensorflow:global_step/sec: 159.154\n",
      "INFO:tensorflow:loss = 0.07238186, step = 8300 (0.627 sec)\n",
      "INFO:tensorflow:global_step/sec: 168.801\n",
      "INFO:tensorflow:loss = 0.016977524, step = 8400 (0.592 sec)\n",
      "INFO:tensorflow:global_step/sec: 162.95\n",
      "INFO:tensorflow:loss = 0.006062222, step = 8500 (0.615 sec)\n",
      "INFO:tensorflow:global_step/sec: 163.037\n",
      "INFO:tensorflow:loss = 0.012733621, step = 8600 (0.612 sec)\n",
      "INFO:tensorflow:global_step/sec: 166.14\n",
      "INFO:tensorflow:loss = 0.011985255, step = 8700 (0.602 sec)\n",
      "INFO:tensorflow:global_step/sec: 168.659\n",
      "INFO:tensorflow:loss = 0.008813267, step = 8800 (0.594 sec)\n",
      "INFO:tensorflow:global_step/sec: 164.897\n",
      "INFO:tensorflow:loss = 0.055369407, step = 8900 (0.605 sec)\n",
      "INFO:tensorflow:global_step/sec: 132.852\n",
      "INFO:tensorflow:loss = 0.0133798905, step = 9000 (0.757 sec)\n",
      "INFO:tensorflow:global_step/sec: 144.895\n",
      "INFO:tensorflow:loss = 0.027676601, step = 9100 (0.687 sec)\n",
      "INFO:tensorflow:global_step/sec: 166.089\n",
      "INFO:tensorflow:loss = 0.09010776, step = 9200 (0.602 sec)\n",
      "INFO:tensorflow:global_step/sec: 161.781\n",
      "INFO:tensorflow:loss = 0.20914662, step = 9300 (0.620 sec)\n",
      "INFO:tensorflow:global_step/sec: 163.529\n",
      "INFO:tensorflow:loss = 0.008898579, step = 9400 (0.610 sec)\n",
      "INFO:tensorflow:global_step/sec: 160.058\n",
      "INFO:tensorflow:loss = 0.008900624, step = 9500 (0.624 sec)\n",
      "INFO:tensorflow:global_step/sec: 168.814\n",
      "INFO:tensorflow:loss = 0.012646011, step = 9600 (0.593 sec)\n",
      "INFO:tensorflow:global_step/sec: 167.837\n",
      "INFO:tensorflow:loss = 0.03837142, step = 9700 (0.596 sec)\n",
      "INFO:tensorflow:global_step/sec: 163.144\n",
      "INFO:tensorflow:loss = 0.0072999774, step = 9800 (0.612 sec)\n",
      "INFO:tensorflow:global_step/sec: 158.386\n",
      "INFO:tensorflow:loss = 0.005305506, step = 9900 (0.633 sec)\n",
      "INFO:tensorflow:Saving checkpoints for 10000 into C:\\Users\\patel\\AppData\\Local\\Temp\\tmpn4xettfh\\model.ckpt.\n",
      "INFO:tensorflow:Loss for final step: 0.010813426.\n"
     ]
    },
    {
     "data": {
      "text/plain": [
       "<tensorflow_estimator.python.estimator.canned.dnn.DNNClassifierV2 at 0x18936af3c08>"
      ]
     },
     "execution_count": 19,
     "metadata": {},
     "output_type": "execute_result"
    }
   ],
   "source": [
    "classifier.train(\n",
    "    input_fn=lambda: input_fn(X_train, y_train, training=True),\n",
    "    steps=5000)"
   ]
  },
  {
   "cell_type": "markdown",
   "metadata": {},
   "source": [
    "### Evaluation\n",
    "Now let's see how this trained model does!"
   ]
  },
  {
   "cell_type": "code",
   "execution_count": 21,
   "metadata": {},
   "outputs": [
    {
     "name": "stdout",
     "output_type": "stream",
     "text": [
      "INFO:tensorflow:Calling model_fn.\n",
      "WARNING:tensorflow:Layer dnn is casting an input tensor from dtype float64 to the layer's dtype of float32, which is new behavior in TensorFlow 2.  The layer has dtype float32 because it's dtype defaults to floatx.\n",
      "\n",
      "If you intended to run this layer in float32, you can safely ignore this warning. If in doubt, this warning is likely only an issue if you are porting a TensorFlow 1.X model to TensorFlow 2.\n",
      "\n",
      "To change all layers to have dtype float64 by default, call `tf.keras.backend.set_floatx('float64')`. To change just this layer, pass dtype='float64' to the layer constructor. If you are the author of this layer, you can disable autocasting by passing autocast=False to the base Layer constructor.\n",
      "\n",
      "INFO:tensorflow:Done calling model_fn.\n",
      "INFO:tensorflow:Starting evaluation at 2020-08-07T20:43:39Z\n",
      "INFO:tensorflow:Graph was finalized.\n",
      "INFO:tensorflow:Restoring parameters from C:\\Users\\patel\\AppData\\Local\\Temp\\tmpn4xettfh\\model.ckpt-10000\n",
      "INFO:tensorflow:Running local_init_op.\n",
      "INFO:tensorflow:Done running local_init_op.\n",
      "INFO:tensorflow:Inference Time : 2.91626s\n",
      "INFO:tensorflow:Finished evaluation at 2020-08-07-20:43:42\n",
      "INFO:tensorflow:Saving dict for global step 10000: accuracy = 0.9983006, accuracy_baseline = 0.9983147, auc = 0.6125437, auc_precision_recall = 0.08333936, average_loss = 0.030889185, global_step = 10000, label/mean = 0.0016853459, loss = 0.030824754, precision = 0.0, prediction/mean = 0.0075853337, recall = 0.0\n",
      "INFO:tensorflow:Saving 'checkpoint_path' summary for global step 10000: C:\\Users\\patel\\AppData\\Local\\Temp\\tmpn4xettfh\\model.ckpt-10000\n",
      "\n",
      "Test set accuracy: 0.998\n",
      "\n"
     ]
    }
   ],
   "source": [
    "eval_result = classifier.evaluate(\n",
    "    input_fn=lambda: input_fn(X_test, y_test, training=False))\n",
    "\n",
    "print('\\nTest set accuracy: {accuracy:0.3f}\\n'.format(**eval_result))"
   ]
  },
  {
   "cell_type": "markdown",
   "metadata": {},
   "source": [
    "### Predictions\n",
    "Now that we have a trained model it's time to use it to make predictions. I've written a little script below that allows you to type the features of a flower and see a prediction for its class."
   ]
  },
  {
   "cell_type": "code",
   "execution_count": 54,
   "metadata": {},
   "outputs": [
    {
     "name": "stdout",
     "output_type": "stream",
     "text": [
      "INFO:tensorflow:Calling model_fn.\n",
      "INFO:tensorflow:Done calling model_fn.\n",
      "INFO:tensorflow:Graph was finalized.\n",
      "INFO:tensorflow:Restoring parameters from C:\\Users\\patel\\AppData\\Local\\Temp\\tmpn4xettfh\\model.ckpt-10000\n",
      "INFO:tensorflow:Running local_init_op.\n",
      "INFO:tensorflow:Done running local_init_op.\n",
      "Prediction is \"Not Fraud\" (100.0%)\n"
     ]
    }
   ],
   "source": [
    "def input_fn(features, batch_size=256):\n",
    "    # Convert the inputs to a Dataset without labels.\n",
    "    return tf.data.Dataset.from_tensor_slices(dict(features)).batch(batch_size)\n",
    "\n",
    "features = X.columns.to_list()\n",
    "Transcation_type = [\"Not Fraud\", \"Fraud\"]\n",
    "predict = {}\n",
    "\n",
    "# add values of X_test to predict\n",
    "k = X_test.columns.to_list()\n",
    "for j in range(len(X_test.iloc[12,:].values.tolist())):\n",
    "    predict[k[j]] = [float(X_test.iloc[12,j])]\n",
    "\n",
    "predictions = classifier.predict(input_fn=lambda: input_fn(predict))\n",
    "for pred_dict in predictions:\n",
    "    class_id = pred_dict['class_ids'][0]\n",
    "    probability = pred_dict['probabilities'][class_id]\n",
    "\n",
    "    print('Prediction is \"{}\" ({:.1f}%)'.format(\n",
    "        Transcation_type[class_id], 100 * probability))\n"
   ]
  },
  {
   "cell_type": "code",
   "execution_count": null,
   "metadata": {},
   "outputs": [],
   "source": []
  }
 ],
 "metadata": {
  "kernelspec": {
   "display_name": "Python 3",
   "language": "python",
   "name": "python3"
  },
  "language_info": {
   "codemirror_mode": {
    "name": "ipython",
    "version": 3
   },
   "file_extension": ".py",
   "mimetype": "text/x-python",
   "name": "python",
   "nbconvert_exporter": "python",
   "pygments_lexer": "ipython3",
   "version": "3.7.7"
  }
 },
 "nbformat": 4,
 "nbformat_minor": 4
}
